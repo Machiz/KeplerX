{
 "cells": [
  {
   "cell_type": "code",
   "execution_count": 2,
   "id": "ef0cea52",
   "metadata": {},
   "outputs": [],
   "source": [
    "import pandas as pd\n",
    "import numpy as np\n",
    "import matplotlib.pyplot as plt"
   ]
  },
  {
   "cell_type": "code",
   "execution_count": 4,
   "id": "9728628d",
   "metadata": {},
   "outputs": [],
   "source": [
    "df = pd.read_csv(\"cumulative_2025.10.04_06.02.35.csv\")"
   ]
  },
  {
   "cell_type": "code",
   "execution_count": 12,
   "id": "2203f4f6",
   "metadata": {},
   "outputs": [
    {
     "data": {
      "text/plain": [
       "kepid                   0\n",
       "kepoi_name              0\n",
       "kepler_name          6817\n",
       "koi_disposition         0\n",
       "koi_pdisposition        0\n",
       "koi_score            1510\n",
       "koi_fpflag_nt           0\n",
       "koi_fpflag_ss           0\n",
       "koi_fpflag_co           0\n",
       "koi_fpflag_ec           0\n",
       "koi_period              0\n",
       "koi_period_err1       454\n",
       "koi_period_err2       454\n",
       "koi_time0bk             0\n",
       "koi_time0bk_err1      454\n",
       "koi_time0bk_err2      454\n",
       "koi_impact            363\n",
       "koi_impact_err1       454\n",
       "koi_impact_err2       454\n",
       "koi_duration            0\n",
       "koi_duration_err1     454\n",
       "koi_duration_err2     454\n",
       "koi_depth             363\n",
       "koi_depth_err1        454\n",
       "koi_depth_err2        454\n",
       "koi_prad              363\n",
       "koi_prad_err1         363\n",
       "koi_prad_err2         363\n",
       "koi_teq               363\n",
       "koi_teq_err1         9564\n",
       "koi_teq_err2         9564\n",
       "koi_insol             321\n",
       "koi_insol_err1        321\n",
       "koi_insol_err2        321\n",
       "koi_model_snr         363\n",
       "koi_tce_plnt_num      346\n",
       "koi_tce_delivname     346\n",
       "koi_steff             363\n",
       "koi_steff_err1        468\n",
       "koi_steff_err2        483\n",
       "koi_slogg             363\n",
       "koi_slogg_err1        468\n",
       "koi_slogg_err2        468\n",
       "koi_srad              363\n",
       "koi_srad_err1         468\n",
       "koi_srad_err2         468\n",
       "ra                      0\n",
       "dec                     0\n",
       "koi_kepmag              1\n",
       "dtype: int64"
      ]
     },
     "execution_count": 12,
     "metadata": {},
     "output_type": "execute_result"
    }
   ],
   "source": [
    "df.isna().sum()"
   ]
  },
  {
   "cell_type": "code",
   "execution_count": 33,
   "id": "48ca2880",
   "metadata": {},
   "outputs": [
    {
     "data": {
      "text/plain": [
       "kepid                  int64\n",
       "kepoi_name            object\n",
       "kepler_name           object\n",
       "koi_disposition       object\n",
       "koi_pdisposition      object\n",
       "koi_score            float64\n",
       "koi_fpflag_nt          int64\n",
       "koi_fpflag_ss          int64\n",
       "koi_fpflag_co          int64\n",
       "koi_fpflag_ec          int64\n",
       "koi_period           float64\n",
       "koi_period_err1      float64\n",
       "koi_period_err2      float64\n",
       "koi_time0bk          float64\n",
       "koi_time0bk_err1     float64\n",
       "koi_time0bk_err2     float64\n",
       "koi_impact           float64\n",
       "koi_impact_err1      float64\n",
       "koi_impact_err2      float64\n",
       "koi_duration         float64\n",
       "koi_duration_err1    float64\n",
       "koi_duration_err2    float64\n",
       "koi_depth            float64\n",
       "koi_depth_err1       float64\n",
       "koi_depth_err2       float64\n",
       "koi_prad             float64\n",
       "koi_prad_err1        float64\n",
       "koi_prad_err2        float64\n",
       "koi_teq              float64\n",
       "koi_teq_err1         float64\n",
       "koi_teq_err2         float64\n",
       "koi_insol            float64\n",
       "koi_insol_err1       float64\n",
       "koi_insol_err2       float64\n",
       "koi_model_snr        float64\n",
       "koi_tce_plnt_num     float64\n",
       "koi_tce_delivname     object\n",
       "koi_steff            float64\n",
       "koi_steff_err1       float64\n",
       "koi_steff_err2       float64\n",
       "koi_slogg            float64\n",
       "koi_slogg_err1       float64\n",
       "koi_slogg_err2       float64\n",
       "koi_srad             float64\n",
       "koi_srad_err1        float64\n",
       "koi_srad_err2        float64\n",
       "ra                   float64\n",
       "dec                  float64\n",
       "koi_kepmag           float64\n",
       "dtype: object"
      ]
     },
     "execution_count": 33,
     "metadata": {},
     "output_type": "execute_result"
    }
   ],
   "source": [
    "df.dtypes"
   ]
  },
  {
   "cell_type": "code",
   "execution_count": 3,
   "id": "93831341",
   "metadata": {},
   "outputs": [],
   "source": [
    "df2 = pd.read_csv(\"k2pandc_2025.10.04_07.27.41.csv\")"
   ]
  },
  {
   "cell_type": "code",
   "execution_count": 43,
   "id": "0e3ba10c",
   "metadata": {},
   "outputs": [
    {
     "data": {
      "text/plain": [
       "default_flag      0\n",
       "disposition       0\n",
       "sy_pnum           0\n",
       "pl_orbper         0\n",
       "pl_orbpererr1     0\n",
       "pl_orbpererr2     0\n",
       "pl_orbperlim      0\n",
       "pl_rade           0\n",
       "pl_radeerr1       0\n",
       "pl_radeerr2       0\n",
       "pl_radelim        0\n",
       "pl_radj           0\n",
       "pl_radjerr1       0\n",
       "pl_radjerr2       0\n",
       "pl_radjlim        0\n",
       "st_rad            0\n",
       "st_raderr1        0\n",
       "st_raderr2        0\n",
       "st_radlim         0\n",
       "sy_dist           0\n",
       "sy_disterr1       0\n",
       "sy_disterr2       0\n",
       "sy_vmag           0\n",
       "sy_vmagerr1       0\n",
       "sy_vmagerr2       0\n",
       "sy_kmag           0\n",
       "sy_kmagerr1       0\n",
       "sy_kmagerr2       0\n",
       "sy_gaiamag        0\n",
       "sy_gaiamagerr1    0\n",
       "sy_gaiamagerr2    0\n",
       "orbpos            0\n",
       "orbneg            0\n",
       "radepos           0\n",
       "radjpos           0\n",
       "radpos            0\n",
       "dtype: int64"
      ]
     },
     "execution_count": 43,
     "metadata": {},
     "output_type": "execute_result"
    }
   ],
   "source": [
    "df2.isnull().sum()"
   ]
  },
  {
   "cell_type": "code",
   "execution_count": 44,
   "id": "883ef3d6",
   "metadata": {},
   "outputs": [
    {
     "data": {
      "text/plain": [
       "np.int64(0)"
      ]
     },
     "execution_count": 44,
     "metadata": {},
     "output_type": "execute_result"
    }
   ],
   "source": [
    "df2['orbpos'].isna().sum()"
   ]
  },
  {
   "cell_type": "code",
   "execution_count": 31,
   "id": "b524bc99",
   "metadata": {},
   "outputs": [],
   "source": [
    "df2 = df2.fillna(0)"
   ]
  },
  {
   "cell_type": "code",
   "execution_count": 45,
   "id": "b94f9757",
   "metadata": {},
   "outputs": [
    {
     "data": {
      "text/html": [
       "<div>\n",
       "<style scoped>\n",
       "    .dataframe tbody tr th:only-of-type {\n",
       "        vertical-align: middle;\n",
       "    }\n",
       "\n",
       "    .dataframe tbody tr th {\n",
       "        vertical-align: top;\n",
       "    }\n",
       "\n",
       "    .dataframe thead th {\n",
       "        text-align: right;\n",
       "    }\n",
       "</style>\n",
       "<table border=\"1\" class=\"dataframe\">\n",
       "  <thead>\n",
       "    <tr style=\"text-align: right;\">\n",
       "      <th></th>\n",
       "      <th>default_flag</th>\n",
       "      <th>disposition</th>\n",
       "      <th>sy_pnum</th>\n",
       "      <th>pl_orbper</th>\n",
       "      <th>pl_orbpererr1</th>\n",
       "      <th>pl_orbpererr2</th>\n",
       "      <th>pl_orbperlim</th>\n",
       "      <th>pl_rade</th>\n",
       "      <th>pl_radeerr1</th>\n",
       "      <th>pl_radeerr2</th>\n",
       "      <th>...</th>\n",
       "      <th>sy_kmagerr1</th>\n",
       "      <th>sy_kmagerr2</th>\n",
       "      <th>sy_gaiamag</th>\n",
       "      <th>sy_gaiamagerr1</th>\n",
       "      <th>sy_gaiamagerr2</th>\n",
       "      <th>orbpos</th>\n",
       "      <th>orbneg</th>\n",
       "      <th>radepos</th>\n",
       "      <th>radjpos</th>\n",
       "      <th>radpos</th>\n",
       "    </tr>\n",
       "  </thead>\n",
       "  <tbody>\n",
       "    <tr>\n",
       "      <th>0</th>\n",
       "      <td>0</td>\n",
       "      <td>CONFIRMED</td>\n",
       "      <td>1</td>\n",
       "      <td>41.688644</td>\n",
       "      <td>0.003353</td>\n",
       "      <td>-0.003419</td>\n",
       "      <td>0.0</td>\n",
       "      <td>2.355454</td>\n",
       "      <td>0.310000</td>\n",
       "      <td>-0.166773</td>\n",
       "      <td>...</td>\n",
       "      <td>0.018</td>\n",
       "      <td>-0.018</td>\n",
       "      <td>10.86440</td>\n",
       "      <td>0.000249</td>\n",
       "      <td>-0.000249</td>\n",
       "      <td>41.691997</td>\n",
       "      <td>41.685225</td>\n",
       "      <td>2.188681</td>\n",
       "      <td>0.195261</td>\n",
       "      <td>1.054707</td>\n",
       "    </tr>\n",
       "    <tr>\n",
       "      <th>1</th>\n",
       "      <td>0</td>\n",
       "      <td>CONFIRMED</td>\n",
       "      <td>1</td>\n",
       "      <td>41.685500</td>\n",
       "      <td>0.003000</td>\n",
       "      <td>-0.003100</td>\n",
       "      <td>0.0</td>\n",
       "      <td>2.230000</td>\n",
       "      <td>0.140000</td>\n",
       "      <td>-0.110000</td>\n",
       "      <td>...</td>\n",
       "      <td>0.018</td>\n",
       "      <td>-0.018</td>\n",
       "      <td>10.86440</td>\n",
       "      <td>0.000249</td>\n",
       "      <td>-0.000249</td>\n",
       "      <td>41.688500</td>\n",
       "      <td>41.682400</td>\n",
       "      <td>2.120000</td>\n",
       "      <td>0.189134</td>\n",
       "      <td>0.983000</td>\n",
       "    </tr>\n",
       "    <tr>\n",
       "      <th>2</th>\n",
       "      <td>1</td>\n",
       "      <td>CONFIRMED</td>\n",
       "      <td>1</td>\n",
       "      <td>41.685500</td>\n",
       "      <td>0.003000</td>\n",
       "      <td>-0.003000</td>\n",
       "      <td>0.0</td>\n",
       "      <td>2.578070</td>\n",
       "      <td>0.112090</td>\n",
       "      <td>-0.112090</td>\n",
       "      <td>...</td>\n",
       "      <td>0.018</td>\n",
       "      <td>-0.018</td>\n",
       "      <td>10.86440</td>\n",
       "      <td>0.000249</td>\n",
       "      <td>-0.000249</td>\n",
       "      <td>41.688500</td>\n",
       "      <td>41.682500</td>\n",
       "      <td>2.465980</td>\n",
       "      <td>0.220000</td>\n",
       "      <td>1.140000</td>\n",
       "    </tr>\n",
       "    <tr>\n",
       "      <th>3</th>\n",
       "      <td>1</td>\n",
       "      <td>CANDIDATE</td>\n",
       "      <td>0</td>\n",
       "      <td>2.301830</td>\n",
       "      <td>0.000280</td>\n",
       "      <td>-0.000300</td>\n",
       "      <td>0.0</td>\n",
       "      <td>1.120000</td>\n",
       "      <td>0.110000</td>\n",
       "      <td>-0.080000</td>\n",
       "      <td>...</td>\n",
       "      <td>0.019</td>\n",
       "      <td>-0.019</td>\n",
       "      <td>11.39950</td>\n",
       "      <td>0.001307</td>\n",
       "      <td>-0.001307</td>\n",
       "      <td>2.302110</td>\n",
       "      <td>2.301530</td>\n",
       "      <td>1.040000</td>\n",
       "      <td>0.092900</td>\n",
       "      <td>0.816253</td>\n",
       "    </tr>\n",
       "    <tr>\n",
       "      <th>4</th>\n",
       "      <td>0</td>\n",
       "      <td>CANDIDATE</td>\n",
       "      <td>0</td>\n",
       "      <td>2.302368</td>\n",
       "      <td>0.000105</td>\n",
       "      <td>-0.000103</td>\n",
       "      <td>0.0</td>\n",
       "      <td>1.312588</td>\n",
       "      <td>0.524177</td>\n",
       "      <td>-0.120814</td>\n",
       "      <td>...</td>\n",
       "      <td>0.019</td>\n",
       "      <td>-0.019</td>\n",
       "      <td>11.39950</td>\n",
       "      <td>0.001307</td>\n",
       "      <td>-0.001307</td>\n",
       "      <td>2.302473</td>\n",
       "      <td>2.302265</td>\n",
       "      <td>1.191773</td>\n",
       "      <td>0.110000</td>\n",
       "      <td>0.729604</td>\n",
       "    </tr>\n",
       "    <tr>\n",
       "      <th>...</th>\n",
       "      <td>...</td>\n",
       "      <td>...</td>\n",
       "      <td>...</td>\n",
       "      <td>...</td>\n",
       "      <td>...</td>\n",
       "      <td>...</td>\n",
       "      <td>...</td>\n",
       "      <td>...</td>\n",
       "      <td>...</td>\n",
       "      <td>...</td>\n",
       "      <td>...</td>\n",
       "      <td>...</td>\n",
       "      <td>...</td>\n",
       "      <td>...</td>\n",
       "      <td>...</td>\n",
       "      <td>...</td>\n",
       "      <td>...</td>\n",
       "      <td>...</td>\n",
       "      <td>...</td>\n",
       "      <td>...</td>\n",
       "      <td>...</td>\n",
       "    </tr>\n",
       "    <tr>\n",
       "      <th>3999</th>\n",
       "      <td>0</td>\n",
       "      <td>CONFIRMED</td>\n",
       "      <td>1</td>\n",
       "      <td>2.655676</td>\n",
       "      <td>0.000002</td>\n",
       "      <td>-0.000002</td>\n",
       "      <td>0.0</td>\n",
       "      <td>11.100000</td>\n",
       "      <td>1.000000</td>\n",
       "      <td>-11.100000</td>\n",
       "      <td>...</td>\n",
       "      <td>0.026</td>\n",
       "      <td>-0.026</td>\n",
       "      <td>10.62410</td>\n",
       "      <td>0.000959</td>\n",
       "      <td>-0.000959</td>\n",
       "      <td>2.655678</td>\n",
       "      <td>2.655674</td>\n",
       "      <td>0.000000</td>\n",
       "      <td>0.000000</td>\n",
       "      <td>0.967000</td>\n",
       "    </tr>\n",
       "    <tr>\n",
       "      <th>4000</th>\n",
       "      <td>1</td>\n",
       "      <td>CONFIRMED</td>\n",
       "      <td>1</td>\n",
       "      <td>6.001270</td>\n",
       "      <td>0.000021</td>\n",
       "      <td>-0.000021</td>\n",
       "      <td>0.0</td>\n",
       "      <td>2.043000</td>\n",
       "      <td>0.069000</td>\n",
       "      <td>-0.069000</td>\n",
       "      <td>...</td>\n",
       "      <td>0.023</td>\n",
       "      <td>-0.023</td>\n",
       "      <td>9.89816</td>\n",
       "      <td>0.000337</td>\n",
       "      <td>-0.000337</td>\n",
       "      <td>6.001291</td>\n",
       "      <td>6.001249</td>\n",
       "      <td>1.974000</td>\n",
       "      <td>0.176109</td>\n",
       "      <td>0.710000</td>\n",
       "    </tr>\n",
       "    <tr>\n",
       "      <th>4001</th>\n",
       "      <td>0</td>\n",
       "      <td>CONFIRMED</td>\n",
       "      <td>1</td>\n",
       "      <td>6.001180</td>\n",
       "      <td>0.000080</td>\n",
       "      <td>-0.000110</td>\n",
       "      <td>0.0</td>\n",
       "      <td>2.030000</td>\n",
       "      <td>0.076000</td>\n",
       "      <td>-0.073000</td>\n",
       "      <td>...</td>\n",
       "      <td>0.023</td>\n",
       "      <td>-0.023</td>\n",
       "      <td>9.89816</td>\n",
       "      <td>0.000337</td>\n",
       "      <td>-0.000337</td>\n",
       "      <td>6.001260</td>\n",
       "      <td>6.001070</td>\n",
       "      <td>1.957000</td>\n",
       "      <td>0.174592</td>\n",
       "      <td>0.715000</td>\n",
       "    </tr>\n",
       "    <tr>\n",
       "      <th>4002</th>\n",
       "      <td>0</td>\n",
       "      <td>CONFIRMED</td>\n",
       "      <td>1</td>\n",
       "      <td>6.001270</td>\n",
       "      <td>0.000021</td>\n",
       "      <td>-0.000021</td>\n",
       "      <td>0.0</td>\n",
       "      <td>2.043000</td>\n",
       "      <td>0.069000</td>\n",
       "      <td>-0.069000</td>\n",
       "      <td>...</td>\n",
       "      <td>0.023</td>\n",
       "      <td>-0.023</td>\n",
       "      <td>9.89816</td>\n",
       "      <td>0.000337</td>\n",
       "      <td>-0.000337</td>\n",
       "      <td>6.001291</td>\n",
       "      <td>6.001249</td>\n",
       "      <td>1.974000</td>\n",
       "      <td>0.176109</td>\n",
       "      <td>0.710000</td>\n",
       "    </tr>\n",
       "    <tr>\n",
       "      <th>4003</th>\n",
       "      <td>0</td>\n",
       "      <td>CONFIRMED</td>\n",
       "      <td>1</td>\n",
       "      <td>0.000000</td>\n",
       "      <td>0.000000</td>\n",
       "      <td>0.000000</td>\n",
       "      <td>0.0</td>\n",
       "      <td>1.757520</td>\n",
       "      <td>1.113206</td>\n",
       "      <td>-1.113206</td>\n",
       "      <td>...</td>\n",
       "      <td>0.023</td>\n",
       "      <td>-0.023</td>\n",
       "      <td>9.89816</td>\n",
       "      <td>0.000337</td>\n",
       "      <td>-0.000337</td>\n",
       "      <td>0.000000</td>\n",
       "      <td>0.000000</td>\n",
       "      <td>0.644314</td>\n",
       "      <td>0.057482</td>\n",
       "      <td>0.684504</td>\n",
       "    </tr>\n",
       "  </tbody>\n",
       "</table>\n",
       "<p>4004 rows × 36 columns</p>\n",
       "</div>"
      ],
      "text/plain": [
       "      default_flag disposition  sy_pnum  pl_orbper  pl_orbpererr1  \\\n",
       "0                0   CONFIRMED        1  41.688644       0.003353   \n",
       "1                0   CONFIRMED        1  41.685500       0.003000   \n",
       "2                1   CONFIRMED        1  41.685500       0.003000   \n",
       "3                1   CANDIDATE        0   2.301830       0.000280   \n",
       "4                0   CANDIDATE        0   2.302368       0.000105   \n",
       "...            ...         ...      ...        ...            ...   \n",
       "3999             0   CONFIRMED        1   2.655676       0.000002   \n",
       "4000             1   CONFIRMED        1   6.001270       0.000021   \n",
       "4001             0   CONFIRMED        1   6.001180       0.000080   \n",
       "4002             0   CONFIRMED        1   6.001270       0.000021   \n",
       "4003             0   CONFIRMED        1   0.000000       0.000000   \n",
       "\n",
       "      pl_orbpererr2  pl_orbperlim    pl_rade  pl_radeerr1  pl_radeerr2  ...  \\\n",
       "0         -0.003419           0.0   2.355454     0.310000    -0.166773  ...   \n",
       "1         -0.003100           0.0   2.230000     0.140000    -0.110000  ...   \n",
       "2         -0.003000           0.0   2.578070     0.112090    -0.112090  ...   \n",
       "3         -0.000300           0.0   1.120000     0.110000    -0.080000  ...   \n",
       "4         -0.000103           0.0   1.312588     0.524177    -0.120814  ...   \n",
       "...             ...           ...        ...          ...          ...  ...   \n",
       "3999      -0.000002           0.0  11.100000     1.000000   -11.100000  ...   \n",
       "4000      -0.000021           0.0   2.043000     0.069000    -0.069000  ...   \n",
       "4001      -0.000110           0.0   2.030000     0.076000    -0.073000  ...   \n",
       "4002      -0.000021           0.0   2.043000     0.069000    -0.069000  ...   \n",
       "4003       0.000000           0.0   1.757520     1.113206    -1.113206  ...   \n",
       "\n",
       "      sy_kmagerr1  sy_kmagerr2  sy_gaiamag  sy_gaiamagerr1  sy_gaiamagerr2  \\\n",
       "0           0.018       -0.018    10.86440        0.000249       -0.000249   \n",
       "1           0.018       -0.018    10.86440        0.000249       -0.000249   \n",
       "2           0.018       -0.018    10.86440        0.000249       -0.000249   \n",
       "3           0.019       -0.019    11.39950        0.001307       -0.001307   \n",
       "4           0.019       -0.019    11.39950        0.001307       -0.001307   \n",
       "...           ...          ...         ...             ...             ...   \n",
       "3999        0.026       -0.026    10.62410        0.000959       -0.000959   \n",
       "4000        0.023       -0.023     9.89816        0.000337       -0.000337   \n",
       "4001        0.023       -0.023     9.89816        0.000337       -0.000337   \n",
       "4002        0.023       -0.023     9.89816        0.000337       -0.000337   \n",
       "4003        0.023       -0.023     9.89816        0.000337       -0.000337   \n",
       "\n",
       "         orbpos     orbneg   radepos   radjpos    radpos  \n",
       "0     41.691997  41.685225  2.188681  0.195261  1.054707  \n",
       "1     41.688500  41.682400  2.120000  0.189134  0.983000  \n",
       "2     41.688500  41.682500  2.465980  0.220000  1.140000  \n",
       "3      2.302110   2.301530  1.040000  0.092900  0.816253  \n",
       "4      2.302473   2.302265  1.191773  0.110000  0.729604  \n",
       "...         ...        ...       ...       ...       ...  \n",
       "3999   2.655678   2.655674  0.000000  0.000000  0.967000  \n",
       "4000   6.001291   6.001249  1.974000  0.176109  0.710000  \n",
       "4001   6.001260   6.001070  1.957000  0.174592  0.715000  \n",
       "4002   6.001291   6.001249  1.974000  0.176109  0.710000  \n",
       "4003   0.000000   0.000000  0.644314  0.057482  0.684504  \n",
       "\n",
       "[4004 rows x 36 columns]"
      ]
     },
     "execution_count": 45,
     "metadata": {},
     "output_type": "execute_result"
    }
   ],
   "source": [
    "df2"
   ]
  },
  {
   "cell_type": "code",
   "execution_count": 25,
   "id": "c28f4820",
   "metadata": {},
   "outputs": [],
   "source": [
    "df3 = pd.read_csv(\"TOI_2025.10.04_06.02.25.csv\")"
   ]
  },
  {
   "cell_type": "code",
   "execution_count": 36,
   "id": "7d155dd3",
   "metadata": {},
   "outputs": [
    {
     "data": {
      "text/plain": [
       "toi            float64\n",
       "tid              int64\n",
       "tfopwg_disp     object\n",
       "rastr           object\n",
       "ra             float64\n",
       "                ...   \n",
       "st_raderr1     float64\n",
       "st_raderr2     float64\n",
       "st_radlim        int64\n",
       "toi_created     object\n",
       "rowupdate       object\n",
       "Length: 65, dtype: object"
      ]
     },
     "execution_count": 36,
     "metadata": {},
     "output_type": "execute_result"
    }
   ],
   "source": [
    "df3.dtypes"
   ]
  },
  {
   "cell_type": "code",
   "execution_count": 26,
   "id": "daf68e7e",
   "metadata": {},
   "outputs": [
    {
     "data": {
      "text/plain": [
       "toi               0\n",
       "tid               0\n",
       "tfopwg_disp       0\n",
       "rastr             0\n",
       "ra                0\n",
       "               ... \n",
       "st_raderr1     1963\n",
       "st_raderr2     1963\n",
       "st_radlim         0\n",
       "toi_created       0\n",
       "rowupdate         0\n",
       "Length: 65, dtype: int64"
      ]
     },
     "execution_count": 26,
     "metadata": {},
     "output_type": "execute_result"
    }
   ],
   "source": [
    "df3.isna().sum()"
   ]
  },
  {
   "cell_type": "code",
   "execution_count": 34,
   "id": "0a4482e8",
   "metadata": {},
   "outputs": [],
   "source": [
    "df4 = df.select_dtypes(include=['Int64', 'float64'])"
   ]
  },
  {
   "cell_type": "code",
   "execution_count": 35,
   "id": "06ef1b24",
   "metadata": {},
   "outputs": [
    {
     "data": {
      "image/png": "[encoded data removed]",
      "text/plain": [
       "<Figure size 640x480 with 2 Axes>"
      ]
     },
     "metadata": {},
     "output_type": "display_data"
    }
   ],
   "source": [
    "# Create the heatmap\n",
    "fig, ax = plt.subplots()\n",
    "im = ax.imshow(df4, cmap='viridis') # 'viridis' is a common colormap\n",
    "\n",
    "# Add a colorbar for reference\n",
    "cbar = ax.figure.colorbar(im, ax=ax)\n",
    "cbar.ax.set_ylabel(\"Value\", rotation=-90, va=\"bottom\")\n",
    "\n",
    "# Set title and labels (optional)\n",
    "ax.set_title(\"Simple Matplotlib Heatmap\")\n",
    "ax.set_xlabel(\"Column Index\")\n",
    "ax.set_ylabel(\"Row Index\")\n",
    "\n",
    "# Display the plot\n",
    "plt.show()"
   ]
  },
  {
   "cell_type": "code",
   "execution_count": 33,
   "id": "6a3b983a",
   "metadata": {},
   "outputs": [],
   "source": [
    "df2['orbpos'] = df2['pl_orbper'] + df2['pl_orbpererr1']"
   ]
  },
  {
   "cell_type": "code",
   "execution_count": 34,
   "id": "e5f45744",
   "metadata": {},
   "outputs": [],
   "source": [
    "df2['orbneg'] = df2['pl_orbper'] + df2['pl_orbpererr2']"
   ]
  },
  {
   "cell_type": "code",
   "execution_count": 35,
   "id": "910c7a4e",
   "metadata": {},
   "outputs": [],
   "source": [
    "df2['radepos'] = df2['pl_rade'] + df2['pl_radeerr1']"
   ]
  },
  {
   "cell_type": "code",
   "execution_count": 37,
   "id": "76dc1e56",
   "metadata": {},
   "outputs": [],
   "source": [
    "df2['radepos'] = df2['pl_rade'] + df2['pl_radeerr2']"
   ]
  },
  {
   "cell_type": "code",
   "execution_count": 38,
   "id": "56436939",
   "metadata": {},
   "outputs": [],
   "source": [
    "df2['radjpos'] = df2['pl_radj'] + df2['pl_radjerr1']"
   ]
  },
  {
   "cell_type": "code",
   "execution_count": 39,
   "id": "49878e20",
   "metadata": {},
   "outputs": [],
   "source": [
    "df2['radjpos'] = df2['pl_radj'] + df2['pl_radjerr2']"
   ]
  },
  {
   "cell_type": "code",
   "execution_count": 40,
   "id": "a9287765",
   "metadata": {},
   "outputs": [],
   "source": [
    "df2['radpos'] = df2['st_rad'] + df2['st_raderr1']"
   ]
  },
  {
   "cell_type": "code",
   "execution_count": 46,
   "id": "ae849a3b",
   "metadata": {},
   "outputs": [],
   "source": [
    "df2['radneg'] = df2['st_rad'] + df2['st_raderr2']"
   ]
  },
  {
   "cell_type": "code",
   "execution_count": 48,
   "id": "6be2eeb9",
   "metadata": {},
   "outputs": [],
   "source": [
    "df2['distpos'] = df2['sy_dist'] + df2['sy_disterr1']"
   ]
  },
  {
   "cell_type": "code",
   "execution_count": 49,
   "id": "3bed6b68",
   "metadata": {},
   "outputs": [],
   "source": [
    "df2['distpos'] = df2['sy_dist'] + df2['sy_disterr2']"
   ]
  },
  {
   "cell_type": "code",
   "execution_count": 50,
   "id": "f6d7a1bd",
   "metadata": {},
   "outputs": [],
   "source": [
    "df2['vmagpos'] = df2['sy_vmag'] + df2['sy_vmagerr1']"
   ]
  },
  {
   "cell_type": "code",
   "execution_count": 53,
   "id": "23f28a75",
   "metadata": {},
   "outputs": [],
   "source": [
    "df2['vmagneg'] = df2['sy_vmag'] + df2['sy_vmagerr2']"
   ]
  },
  {
   "cell_type": "code",
   "execution_count": 52,
   "id": "06186976",
   "metadata": {},
   "outputs": [],
   "source": [
    "df2['kmagpos'] = df2['sy_kmag'] + df2['sy_kmagerr1']"
   ]
  },
  {
   "cell_type": "code",
   "execution_count": 54,
   "id": "f5f7790d",
   "metadata": {},
   "outputs": [],
   "source": [
    "df2['kmagneg'] = df2['sy_kmag'] + df2['sy_kmagerr2']"
   ]
  },
  {
   "cell_type": "code",
   "execution_count": 57,
   "id": "791c7ef1",
   "metadata": {},
   "outputs": [],
   "source": [
    "df2['gaiamagpos'] = df2['sy_gaiamag'] + df2['sy_gaiamagerr1']"
   ]
  },
  {
   "cell_type": "code",
   "execution_count": 58,
   "id": "004b8381",
   "metadata": {},
   "outputs": [],
   "source": [
    "df2['gaiamagneg'] = df2['sy_gaiamag'] + df2['sy_gaiamagerr2']"
   ]
  },
  {
   "cell_type": "code",
   "execution_count": 59,
   "id": "ce8eb3d7",
   "metadata": {},
   "outputs": [],
   "source": [
    "df2.to_csv('kpandc.csv', index=False )"
   ]
  }
 ],
 "metadata": {
  "kernelspec": {
   "display_name": "Python 3",
   "language": "python",
   "name": "python3"
  },
  "language_info": {
   "codemirror_mode": {
    "name": "ipython",
    "version": 3
   },
   "file_extension": ".py",
   "mimetype": "text/x-python",
   "name": "python",
   "nbconvert_exporter": "python",
   "pygments_lexer": "ipython3",
   "version": "3.10.11"
  }
 },
 "nbformat": 4,
 "nbformat_minor": 5
}
